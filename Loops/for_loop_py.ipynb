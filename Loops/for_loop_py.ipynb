{
 "cells": [
  {
   "cell_type": "markdown",
   "metadata": {},
   "source": [
    "### FOR LOOP\n",
    "\n",
    "- tup is spcl in for loop tuple will give output as tuples itself we need to use tuple unpacking for printing every element in tuple\n",
    "\n",
    "- for dist type bty defalut it gives key's in the output if we need values we need to intate through *.iteams() funtion* \n",
    "    - if we need rpint the keys and values using iteration we can use same un-packing techine as in tup \n",
    "    - or else we can use *.values()* funtion"
   ]
  },
  {
   "cell_type": "code",
   "execution_count": null,
   "metadata": {},
   "outputs": [],
   "source": [
    "my_list = [1,2,3,4,5,6,7,8,9]\n",
    "\n",
    "for num in my_list:\n",
    "    print(num)\n",
    "\n",
    "## Print Odd and  even num in List\n",
    "for num in my_list:\n",
    "    if num % 2 == 0:\n",
    "        print(f'num is prime: {num}')\n",
    "    else: \n",
    "        print(f'num is odd: {num}')"
   ]
  },
  {
   "cell_type": "code",
   "execution_count": null,
   "metadata": {},
   "outputs": [],
   "source": [
    "my_string = 'hello world'\n",
    "for str in my_string:\n",
    "    print(str)"
   ]
  },
  {
   "cell_type": "code",
   "execution_count": null,
   "metadata": {},
   "outputs": [],
   "source": [
    "my_tup = [(2,4), (3,4), (6,7), (7,8)]\n",
    "\n",
    "for tup in my_tup:\n",
    "    print (tup) \n",
    "\n",
    "## output -> ## tuples will output as tuples\n",
    "# (2, 4)\n",
    "# (3, 4)\n",
    "# (6, 7)\n",
    "# (7, 8)\n",
    "\n",
    "# for printing every single elemet in tuple we need to itrate as below\n",
    "for (a,b) in my_tup:\n",
    "    print (a)\n",
    "    print(b)\n",
    "\n",
    "## output -> 2\n",
    "# 4\n",
    "# 3\n",
    "# 4\n",
    "# 6\n",
    "# 7\n",
    "# 7\n",
    "# 8"
   ]
  },
  {
   "cell_type": "code",
   "execution_count": null,
   "metadata": {},
   "outputs": [],
   "source": [
    "my_dist = {'k1':'orange', 'k2':'apple', 'k3':'grape'}\n",
    "\n",
    "for dist in my_dist: \n",
    "    print(dist)  # this will print only keys\n",
    "# ## output ->\n",
    "# k1\n",
    "# k2\n",
    "# k3\n",
    "\n",
    "# for print the iteam's in list use .iteams()\n",
    "for dist in my_dist.items():\n",
    "    print(dist)\n",
    "## output ->\n",
    "# ('k1', 'orange')\n",
    "# ('k2', 'apple')\n",
    "# ('k3', 'grape')\n",
    "\n",
    "# for printing values \n",
    "for dist in my_dist.values():\n",
    "    print(dist)\n",
    "## output ->\n",
    "# orange\n",
    "# apple\n",
    "# grape\n",
    "\n",
    "# unpacking techine\n",
    "for key,value in my_dist.items():\n",
    "    print(key, value)\n",
    "## output -> \n",
    "# k1 orange\n",
    "# k2 apple\n",
    "# k3 grape\n"
   ]
  }
 ],
 "metadata": {
  "kernelspec": {
   "display_name": "Python 3",
   "language": "python",
   "name": "python3"
  },
  "language_info": {
   "codemirror_mode": {
    "name": "ipython",
    "version": 3
   },
   "file_extension": ".py",
   "mimetype": "text/x-python",
   "name": "python",
   "nbconvert_exporter": "python",
   "pygments_lexer": "ipython3",
   "version": "3.12.0"
  }
 },
 "nbformat": 4,
 "nbformat_minor": 2
}
