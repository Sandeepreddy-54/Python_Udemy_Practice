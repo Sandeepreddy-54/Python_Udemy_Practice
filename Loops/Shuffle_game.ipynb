{
 "cells": [
  {
   "cell_type": "markdown",
   "metadata": {},
   "source": [
    "### SHUFFULE BALL "
   ]
  },
  {
   "cell_type": "code",
   "execution_count": 2,
   "metadata": {},
   "outputs": [],
   "source": [
    "### Shuffle list and retun the Shuffled list\n",
    "from random import shuffle\n",
    "\n",
    "def shuffle_list(my_list):\n",
    "    shuffle(my_list)\n",
    "    return my_list\n",
    "\n",
    "## Get user input\n",
    "def player_guess():\n",
    "    guess = ''\n",
    "    while guess not in ['1','2','3']:\n",
    "        guess = input(\"Test your luck with 1,2 or 3\")\n",
    "    return int(guess)\n",
    "\n",
    "## Mix the functions and validate\n",
    "def check_luck(my_list, guess):\n",
    "    if my_list[guess] == '0':\n",
    "        print(\"padagaroo ra abbai gelicinav poo\")\n",
    "    else:\n",
    "        print(\"Ipoyaaaaaiiiiii\")\n",
    "\n",
    "# define list\n",
    "list = ['0','','']\n",
    "# get user guess\n",
    "# shuffle list \n",
    "# validate the shuffles list\n",
    "\n"
   ]
  },
  {
   "cell_type": "code",
   "execution_count": null,
   "metadata": {},
   "outputs": [],
   "source": []
  }
 ],
 "metadata": {
  "kernelspec": {
   "display_name": "Python 3",
   "language": "python",
   "name": "python3"
  },
  "language_info": {
   "codemirror_mode": {
    "name": "ipython",
    "version": 3
   },
   "file_extension": ".py",
   "mimetype": "text/x-python",
   "name": "python",
   "nbconvert_exporter": "python",
   "pygments_lexer": "ipython3",
   "version": "3.12.0"
  }
 },
 "nbformat": 4,
 "nbformat_minor": 2
}
