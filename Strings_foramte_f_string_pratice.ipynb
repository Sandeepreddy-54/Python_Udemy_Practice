{
 "cells": [
  {
   "cell_type": "markdown",
   "metadata": {},
   "source": [
    "### **STRINGS**\n",
    "- Strings can not be Mutated\n",
    "\n",
    "#### **Common methodes Used**\n",
    "- Sliceing, Indexing, concatenating.. \n",
    "- .formate, f string pratice for using in sting and in flote values"
   ]
  },
  {
   "cell_type": "code",
   "execution_count": 37,
   "metadata": {},
   "outputs": [
    {
     "data": {
      "text/plain": [
       "'ponmlkjihgfedcba'"
      ]
     },
     "execution_count": 37,
     "metadata": {},
     "output_type": "execute_result"
    }
   ],
   "source": [
    "# Sliceing, Indexing, concatenating.. \n",
    "\n",
    "my_varible = \"abcdefghijklmnop\"\n",
    "len(my_varible)\n",
    "my_varible[::] ## this is similar as my_varible\n",
    "my_varible[:7] # this is to slice the string from : -> Starting of the string to Index 7 // output -> how goo\n",
    "my_varible[5:]  # output ->ood are you as a coder\n",
    "my_varible[4:16:2] ## slice(start, stop, step) this is used to jump-in interverl of __2__ // output -> egikmo\n",
    "my_varible[::-1] ## slice(start, stop, step) but -1 will print the string in ***reverse ***  // output -> ponmlkjihgfedcba'\n"
   ]
  },
  {
   "cell_type": "code",
   "execution_count": 23,
   "metadata": {},
   "outputs": [
    {
     "name": "stdout",
     "output_type": "stream",
     "text": [
      "The fox is dark fast and well grown \n",
      "The fox is dark dark and dark \n",
      "The fox is dark fast and well grown \n",
      "the result is 97.125\n",
      "the result is 97.12\n"
     ]
    }
   ],
   "source": [
    "# insterting varibles using formate// output -> The fox is dark fast and well grown \n",
    "print('The fox is {} {} and {} '.format('dark', 'fast', 'well grown'))\n",
    "\n",
    "# We can also use Indexing in the foramte strings // output -> The fox is dark dark and dark \n",
    "print('The fox is {0} {0} and {0} '.format('dark', 'fast', 'well grown'))\n",
    "\n",
    "# We can also use references // output -> The fox is dark fast and well grown \n",
    "print('The fox is {d} {f} and {w} '.format(d='dark', f='fast', w='well grown'))\n",
    "\n",
    "# Using in flotting values\n",
    "Result = 777/8\n",
    "print('the result is {}'.format(Result)) #result value 97.125\n",
    "\n",
    "print('the result is {r:1.2f}'.format(r=Result))  # Using prescision in .formate syntax {value:width.prescisionf}"
   ]
  },
  {
   "cell_type": "code",
   "execution_count": 24,
   "metadata": {},
   "outputs": [
    {
     "name": "stdout",
     "output_type": "stream",
     "text": [
      "the result is 97.125\n"
     ]
    }
   ],
   "source": [
    "# Using F string instered of .formate // output -> the result is 97.125\n",
    "\n",
    "Result = 777/8\n",
    "print(f'the result is {Result}') # We can insert value in {} instered of useing .formate\n"
   ]
  },
  {
   "cell_type": "code",
   "execution_count": 25,
   "metadata": {},
   "outputs": [
    {
     "name": "stdout",
     "output_type": "stream",
     "text": [
      "i like apples\n",
      "i like apples\n"
     ]
    }
   ],
   "source": [
    "print('i like apples')\n",
    "\n",
    "print('i like %s' %'apples')  # both will give smae output just to add on insert varibles in line"
   ]
  },
  {
   "cell_type": "code",
   "execution_count": null,
   "metadata": {},
   "outputs": [],
   "source": []
  }
 ],
 "metadata": {
  "kernelspec": {
   "display_name": "Python 3",
   "language": "python",
   "name": "python3"
  },
  "language_info": {
   "codemirror_mode": {
    "name": "ipython",
    "version": 3
   },
   "file_extension": ".py",
   "mimetype": "text/x-python",
   "name": "python",
   "nbconvert_exporter": "python",
   "pygments_lexer": "ipython3",
   "version": "3.12.0"
  }
 },
 "nbformat": 4,
 "nbformat_minor": 2
}
