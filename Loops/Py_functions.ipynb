{
 "cells": [
  {
   "cell_type": "markdown",
   "metadata": {},
   "source": [
    "### PY SPCL conditions\n",
    " - range\n",
    " - enumerate \n",
    " - Zip - opposite to Unpacking of tuples..\n",
    " - in \n",
    " - min\n",
    " - max\n",
    " - random - its inplace function \n",
    "    - import from random randint\n",
    " - shuffle - its inplace function \n",
    " - import\n",
    " - input function - always its takes as a string \n",
    " - append \n",
    " - list comprehensions\n",
    "\n",
    "\n"
   ]
  },
  {
   "cell_type": "code",
   "execution_count": null,
   "metadata": {},
   "outputs": [],
   "source": [
    "### range \n",
    "\n",
    "for num in range(10):\n",
    "    print (num)\n",
    "\n",
    "# We can allso use this range as genereters for generting list etc..\n",
    "list(range(10)) # -> Output [0, 1, 2, 3, 4, 5, 6, 7, 8, 9]"
   ]
  },
  {
   "cell_type": "code",
   "execution_count": null,
   "metadata": {},
   "outputs": [],
   "source": [
    "# enumerate\n",
    "# my_index = 0\n",
    "my_string = 'abcdefgh'\n",
    "# for str in my_string:\n",
    "#     print('str with index {} is letter {}'.format(my_index, str))\n",
    "#     my_index += 1\n",
    "\n",
    "# above one can be done using enumerate function\n",
    "\n",
    "for iteam in enumerate('word'):\n",
    "    print(iteam)\n",
    "\n",
    "# -> Output\n",
    "# (0, 'w')\n",
    "# (1, 'o')\n",
    "# (2, 'r')\n",
    "# (3, 'd')"
   ]
  },
  {
   "cell_type": "code",
   "execution_count": 11,
   "metadata": {},
   "outputs": [
    {
     "data": {
      "text/plain": [
       "5"
      ]
     },
     "execution_count": 11,
     "metadata": {},
     "output_type": "execute_result"
    }
   ],
   "source": [
    "# random\n",
    "\n",
    "import random\n",
    "my_list = random.randint(1,10)\n",
    "my_list\n"
   ]
  },
  {
   "cell_type": "code",
   "execution_count": 37,
   "metadata": {},
   "outputs": [
    {
     "data": {
      "text/plain": [
       "[5, 6, 3, 9, 4, 1, 7, 8, 2]"
      ]
     },
     "execution_count": 37,
     "metadata": {},
     "output_type": "execute_result"
    }
   ],
   "source": [
    "# shuffle\n",
    "\n",
    "from random import shuffle\n",
    "\n",
    "my_list = [x for x in range(1,10)]  # output -> [1, 2, 3, 4, 5, 6, 7, 8, 9]\n",
    "\n",
    "# my_list = shuffle([x for x in range(1,10)]) *** This will also give nulltype value \n",
    "\n",
    "# my_list = shuffle(my_list)  **this will give output of NoneType as shuffle is inplace function\n",
    "\n",
    "shuffle(my_list)\n",
    "\n",
    "my_list  # # output -> [5, 6, 3, 9, 4, 1, 7, 8, 2]\n",
    "\n",
    "# shuffled_list = random.shuffle(range(1,10))\n",
    "\n",
    "# shuffled_list"
   ]
  },
  {
   "cell_type": "code",
   "execution_count": 46,
   "metadata": {},
   "outputs": [
    {
     "data": {
      "text/plain": [
       "['a', 'p', 'p', 'e', 'n', 'd', '_', 's', 't', 'r']"
      ]
     },
     "execution_count": 46,
     "metadata": {},
     "output_type": "execute_result"
    }
   ],
   "source": [
    "# append  & list comprehensions\n",
    "\n",
    "my_str = []\n",
    "\n",
    "for str in 'append_str':\n",
    "    my_str.append(str)\n",
    "my_str\n",
    "\n",
    "## this can also be doen by list comprehensions\n",
    "\n",
    "my_str = [x for x in 'append_str']\n",
    "\n",
    "my_str\n",
    "    "
   ]
  },
  {
   "cell_type": "code",
   "execution_count": null,
   "metadata": {},
   "outputs": [],
   "source": [
    "# we can also use if statemnets and else staaments in list comprehensions\n",
    "\n",
    "even_num = [x for x in range(1,20) if x%2 == 0 ] \n",
    "even_num\n",
    "\n",
    "num = [x if x%2 ==0 else 'odd_num' for x in range(1,20)]\n",
    "num "
   ]
  },
  {
   "cell_type": "code",
   "execution_count": 58,
   "metadata": {},
   "outputs": [
    {
     "data": {
      "text/plain": [
       "[1, 10, 20, 2, 20, 40, 3, 30, 60, 4, 40, 80]"
      ]
     },
     "execution_count": 58,
     "metadata": {},
     "output_type": "execute_result"
    }
   ],
   "source": [
    "#More examples \n",
    "my_list = []\n",
    "\n",
    "for x in [1,2,3,4]:\n",
    "    for y in [1,10,20]:\n",
    "        my_list.append(x*y)\n",
    "my_list   # # output -> [1, 10, 20, 2, 20, 40, 3, 30, 60, 4, 40, 80]\n",
    "\n",
    "my_com_list = [x*y for x in  [1,2,3,4] for y in [1,10,20]]\n",
    "my_com_list # output -> [1, 10, 20, 2, 20, 40, 3, 30, 60, 4, 40, 80]\n",
    "\n"
   ]
  }
 ],
 "metadata": {
  "kernelspec": {
   "display_name": "Python 3",
   "language": "python",
   "name": "python3"
  },
  "language_info": {
   "codemirror_mode": {
    "name": "ipython",
    "version": 3
   },
   "file_extension": ".py",
   "mimetype": "text/x-python",
   "name": "python",
   "nbconvert_exporter": "python",
   "pygments_lexer": "ipython3",
   "version": "3.12.0"
  }
 },
 "nbformat": 4,
 "nbformat_minor": 2
}
