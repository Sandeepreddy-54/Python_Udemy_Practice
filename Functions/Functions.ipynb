{
 "cells": [
  {
   "cell_type": "markdown",
   "metadata": {},
   "source": [
    "### FUNCTIONS\n",
    "\n",
    "- Retun, Break, pass "
   ]
  },
  {
   "cell_type": "code",
   "execution_count": 12,
   "metadata": {},
   "outputs": [
    {
     "data": {
      "text/plain": [
       "True"
      ]
     },
     "execution_count": 12,
     "metadata": {},
     "output_type": "execute_result"
    }
   ],
   "source": [
    "## Fucntion to gsee the lsit of numbers contaions any even num and retun True esle false\n",
    "\n",
    "def even_check(num_list):\n",
    "    for num in num_list:\n",
    "        if num %2 == 0:\n",
    "            return True\n",
    "        else:\n",
    "            pass\n",
    "    return False\n",
    "\n",
    "even_check([1,2,3,4,5,6,7,8,9])\n",
    "\n",
    "# NOTE: We will use Retun in else after the for loop is completed becase it sholud iterete through the List Completly and then its go it retun false \n"
   ]
  },
  {
   "cell_type": "code",
   "execution_count": 33,
   "metadata": {},
   "outputs": [
    {
     "data": {
      "text/plain": [
       "([2, 4, 6, 8], [1, 3, 5, 7, 9])"
      ]
     },
     "execution_count": 33,
     "metadata": {},
     "output_type": "execute_result"
    }
   ],
   "source": [
    "## Fucntion to Listing even and odd nums in the given List\n",
    "\n",
    "\n",
    "def num_check(num_list):\n",
    "    even_numbers = []\n",
    "    odd_numbers = []\n",
    "    for num in num_list:\n",
    "        if num %2 == 0:\n",
    "            even_numbers.append(num)\n",
    "        else:\n",
    "            odd_numbers.append(num)\n",
    "    return even_numbers, odd_numbers\n",
    "\n",
    "num_check([1,2,3,4,5,6,7,8,9])\n"
   ]
  },
  {
   "cell_type": "code",
   "execution_count": 34,
   "metadata": {},
   "outputs": [
    {
     "data": {
      "text/plain": [
       "([2, 4, 6, 8], [1, 3, 5, 7, 9])"
      ]
     },
     "execution_count": 34,
     "metadata": {},
     "output_type": "execute_result"
    }
   ],
   "source": [
    "# We Can do the Same with below def\n",
    "\n",
    "def check_num(list_num):\n",
    "    even_num = [num for num in list_num if num%2==0]\n",
    "    odd_numbres = [num for num in list_num if num%2!=0]\n",
    "    return odd_numbres, even_num\n",
    "\n",
    "num_check([1,2,3,4,5,6,7,8,9])\n"
   ]
  },
  {
   "cell_type": "code",
   "execution_count": 35,
   "metadata": {},
   "outputs": [],
   "source": [
    "# Tuple unpacking \n",
    "\n",
    "#finding oot employee of the month \n",
    "\n",
    "employee_working_hrs = [('billy': 50), ('sam': 40), ('damm': 30), ('ram': 29)]\n"
   ]
  },
  {
   "cell_type": "code",
   "execution_count": null,
   "metadata": {},
   "outputs": [],
   "source": []
  }
 ],
 "metadata": {
  "kernelspec": {
   "display_name": "Python 3",
   "language": "python",
   "name": "python3"
  },
  "language_info": {
   "codemirror_mode": {
    "name": "ipython",
    "version": 3
   },
   "file_extension": ".py",
   "mimetype": "text/x-python",
   "name": "python",
   "nbconvert_exporter": "python",
   "pygments_lexer": "ipython3",
   "version": "3.12.0"
  }
 },
 "nbformat": 4,
 "nbformat_minor": 2
}
