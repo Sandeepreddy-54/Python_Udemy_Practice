{
 "cells": [
  {
   "cell_type": "markdown",
   "metadata": {},
   "source": [
    "## Statements Assessment Test\n"
   ]
  },
  {
   "cell_type": "code",
   "execution_count": 13,
   "metadata": {},
   "outputs": [
    {
     "name": "stdout",
     "output_type": "stream",
     "text": [
      "start\n",
      "s\n",
      "sentence\n"
     ]
    }
   ],
   "source": [
    "# Use for, .split(), and if to create a Statement that will print out words that start with 's':\n",
    "\n",
    "str = 'Print only the words that start with s in this sentence'\n",
    "\n",
    "for word in str.split():\n",
    "    if word[0] == 's':\n",
    "        print(word)\n",
    "    "
   ]
  },
  {
   "cell_type": "code",
   "execution_count": null,
   "metadata": {},
   "outputs": [],
   "source": [
    "# Use range() to print all the even numbers from 0 to 10.\n",
    "\n",
    "for x in range(1,11):\n",
    "    print(x)"
   ]
  },
  {
   "cell_type": "code",
   "execution_count": null,
   "metadata": {},
   "outputs": [],
   "source": [
    "# Use a List Comprehension to create a list of all numbers between 1 and 50 that are divisible by 3.\n",
    "\n",
    "num = [x for x in range(1,50) if x%3==0]  #output [3, 6, 9, 12, 15, 18, 21, 24, 27, 30, 33, 36, 39, 42, 45, 48]\n",
    "num"
   ]
  },
  {
   "cell_type": "code",
   "execution_count": 30,
   "metadata": {},
   "outputs": [
    {
     "data": {
      "text/plain": [
       "[]"
      ]
     },
     "execution_count": 30,
     "metadata": {},
     "output_type": "execute_result"
    }
   ],
   "source": [
    "# Go through the string below and if the length of a word is even print \"even!\"\n",
    "\n",
    "st = 'Print every word in this sentence that has an even number of letters'  \n",
    "\n",
    "for word in st.split():\n",
    "    if (len(word)%2 == 0):\n",
    "        print(f'the word {word} is divisable by 2')\n",
    "    else:\n",
    "        print(f'word {word} bokke') "
   ]
  },
  {
   "cell_type": "code",
   "execution_count": null,
   "metadata": {},
   "outputs": [],
   "source": [
    "# Write a program that prints the integers from 1 to 100. But for multiples of three print \"Fizz\" instead of the number, and for the multiples of five print \"Buzz\". For numbers which are multiples of both three and five print \"FizzBuzz\".\n",
    "\n",
    "my_list = [ x for x in range(1,101)]\n",
    "\n",
    "for num in my_list:\n",
    "    if num%3 == 0 and num%5==0:\n",
    "        print('FizzBuzz')\n",
    "    elif num%3 == 0:\n",
    "        print('Fizz')\n",
    "    elif num%5==0:\n",
    "        print('Buzz')\n",
    "    else:\n",
    "        print(num)"
   ]
  },
  {
   "cell_type": "code",
   "execution_count": 9,
   "metadata": {},
   "outputs": [
    {
     "data": {
      "text/plain": [
       "['C', 'a', 'l', 'o', 't', 'f', 'l', 'o', 'e', 'w', 'i', 't', 's']"
      ]
     },
     "execution_count": 9,
     "metadata": {},
     "output_type": "execute_result"
    }
   ],
   "source": [
    "\n",
    "# Use a List Comprehension to create a list of the first letters of every word in the string below:\n",
    "\n",
    "st = 'Create a list of the first letters of every word in this string'\n",
    "\n",
    "list_frist_str = [word[0] for word in st.split()]\n",
    "\n",
    "list_frist_str"
   ]
  },
  {
   "cell_type": "code",
   "execution_count": 22,
   "metadata": {},
   "outputs": [
    {
     "data": {
      "text/plain": [
       "['C', 'a', 'l', 'o', 't', 'f', 'l', 'o', 'e', 'w', 'i', 't', 's']"
      ]
     },
     "execution_count": 22,
     "metadata": {},
     "output_type": "execute_result"
    }
   ],
   "source": [
    "# Use a for to create a list of the first letters of every word in the string below:\n",
    "\n",
    "st = 'Create a list of the first letters of every word in this string'\n",
    "\n",
    "list_fst_chr = []\n",
    "\n",
    "for word in st.split():\n",
    "    list_fst_chr.append(word[0])\n",
    "\n",
    "list_fst_chr\n",
    "\n",
    "\n",
    "# st = 'Create a list of the first letters of every word in this string'\n",
    "\n",
    "# # Initialize an empty list to store the first letters\n",
    "# first_letters = []\n",
    "\n",
    "# # Split the string into words and iterate over them\n",
    "# for word in st.split():\n",
    "#     # Append the first letter of each word to the list\n",
    "#     first_letters.append(word[0])\n",
    "\n",
    "# print(first_letters)\n",
    "\n"
   ]
  }
 ],
 "metadata": {
  "kernelspec": {
   "display_name": "Python 3",
   "language": "python",
   "name": "python3"
  },
  "language_info": {
   "codemirror_mode": {
    "name": "ipython",
    "version": 3
   },
   "file_extension": ".py",
   "mimetype": "text/x-python",
   "name": "python",
   "nbconvert_exporter": "python",
   "pygments_lexer": "ipython3",
   "version": "3.12.0"
  }
 },
 "nbformat": 4,
 "nbformat_minor": 2
}
